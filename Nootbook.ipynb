{
 "cells": [
  {
   "cell_type": "markdown",
   "metadata": {},
   "source": [
    "# introduce:\n",
    "\n",
    "In this project, our mission was to identify the \"best\" neighborhoods in Pittsburgh. The quality and quantity of hospitals in the community should be sufficient to meet the needs of residents.\n",
    "\n",
    "# index:\n",
    "\n",
    "As mentioned above, the metrics I chose to use were the number and information of hospitals in the community. I will use the Allegheny County PHosipital dataset provided by WPRDC."
   ]
  }
 ],
 "metadata": {
  "kernelspec": {
   "display_name": "Python 3",
   "language": "python",
   "name": "python3"
  },
  "language_info": {
   "codemirror_mode": {
    "name": "ipython",
    "version": 3
   },
   "file_extension": ".py",
   "mimetype": "text/x-python",
   "name": "python",
   "nbconvert_exporter": "python",
   "pygments_lexer": "ipython3",
   "version": "3.8.3"
  }
 },
 "nbformat": 4,
 "nbformat_minor": 4
}
