{
 "cells": [
  {
   "cell_type": "markdown",
   "metadata": {},
   "source": [
    "**Introduction:**\n"
   ]
  },
  {
   "cell_type": "markdown",
   "metadata": {},
   "source": [
    "In this project, we are tasked with finding out the \"best\" neighborhood in Pittsburgh. To find this out, we must use a metric of our choosing that defines \"bestness\". When considering what defines \"bestness\", and after pouring over the datasets provided to us, one metric stood out among all the rest: plumbers per neighborhood. Clearly a neighborhood with a high number of plumbers would be the obvious best choice to determine the best neighborhood in Pittsburgh."
   ]
  },
  {
   "cell_type": "markdown",
   "metadata": {},
   "source": [
    "**The Metric:**"
   ]
  },
  {
   "cell_type": "markdown",
   "metadata": {},
   "source": [
    "As mentioned above, the metric I have chosen to go with is the number of plumbers per neighborhood. I will only be measuring the number of plumbers based on their zipcode, using the Allegheny County Plumbers dataset provided by the WPRDC."
   ]
  },
  {
   "cell_type": "markdown",
   "metadata": {},
   "source": [
    "**The Best"
   ]
  }
 ],
 "metadata": {
  "kernelspec": {
   "display_name": "Python 3",
   "language": "python",
   "name": "python3"
  },
  "language_info": {
   "codemirror_mode": {
    "name": "ipython",
    "version": 3
   },
   "file_extension": ".py",
   "mimetype": "text/x-python",
   "name": "python",
   "nbconvert_exporter": "python",
   "pygments_lexer": "ipython3",
   "version": "3.8.3"
  }
 },
 "nbformat": 4,
 "nbformat_minor": 4
}
