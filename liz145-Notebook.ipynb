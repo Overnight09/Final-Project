{
 "cells": [
  {
   "cell_type": "markdown",
   "metadata": {},
   "source": [
    "# Introduction:\n",
    "\n",
    "When people want to know which neighborhood is the \"best,\" it might be challenging to start how they could learn how even to determine. So in this project, we are given directions to determine which is the \"best\" neighborhood in Pittsburgh. There are many options for each of us to choose and analyze a conclusion based on their dataset. I have been thinking over it and am unsure which is significant to consider in selecting a good neighborhood. Indeed, I feel like a \"best\" neighborhood should provide protection whenever there is bad weather or lack of water, etc. Green Infrastructure is what I think is essential to use for finding the \"best\" neighborhood in Pittsburgh.  \n",
    "\n",
    "## The Metric: \n",
    "\n",
    "As I have mentioned in the introduction, to see whether a neighborhood provides green infrastructure is what I will go with for this project. This metric will to shown by the color labels on the map rather than on the data. On the map, I will be able to figure out where Pittsburgh provides the most. \n",
    "     "
   ]
  },
  {
   "cell_type": "markdown",
   "metadata": {},
   "source": [
    "# Map"
   ]
  },
  {
   "cell_type": "code",
   "execution_count": 9,
   "metadata": {},
   "outputs": [
    {
     "data": {
      "text/html": [
       "<div>\n",
       "<style scoped>\n",
       "    .dataframe tbody tr th:only-of-type {\n",
       "        vertical-align: middle;\n",
       "    }\n",
       "\n",
       "    .dataframe tbody tr th {\n",
       "        vertical-align: top;\n",
       "    }\n",
       "\n",
       "    .dataframe thead th {\n",
       "        text-align: right;\n",
       "    }\n",
       "</style>\n",
       "<table border=\"1\" class=\"dataframe\">\n",
       "  <thead>\n",
       "    <tr style=\"text-align: right;\">\n",
       "      <th></th>\n",
       "      <th>field,description,notes</th>\n",
       "    </tr>\n",
       "  </thead>\n",
       "  <tbody>\n",
       "    <tr>\n",
       "      <th>0</th>\n",
       "      <td>OBJECTID,unique id for geographic feature,</td>\n",
       "    </tr>\n",
       "    <tr>\n",
       "      <th>1</th>\n",
       "      <td>Id,,</td>\n",
       "    </tr>\n",
       "    <tr>\n",
       "      <th>2</th>\n",
       "      <td>BMP,Best Management Practice,storage infrastru...</td>\n",
       "    </tr>\n",
       "    <tr>\n",
       "      <th>3</th>\n",
       "      <td>Shape_Leng,length of geographic feature,used i...</td>\n",
       "    </tr>\n",
       "    <tr>\n",
       "      <th>4</th>\n",
       "      <td>Shape_Area,area of geographic feature,used by ...</td>\n",
       "    </tr>\n",
       "  </tbody>\n",
       "</table>\n",
       "</div>"
      ],
      "text/plain": [
       "                             field,description,notes\n",
       "0         OBJECTID,unique id for geographic feature,\n",
       "1                                               Id,,\n",
       "2  BMP,Best Management Practice,storage infrastru...\n",
       "3  Shape_Leng,length of geographic feature,used i...\n",
       "4  Shape_Area,area of geographic feature,used by ..."
      ]
     },
     "execution_count": 9,
     "metadata": {},
     "output_type": "execute_result"
    }
   ],
   "source": [
    "import geopandas as gpd\n",
    "green = pd.read_csv(\"https://data.wprdc.org/datastore/dump/317041e9-2289-48aa-a602-0dc6494fb6e3?q=&sort=_id+asc&fields=field%2Cdescription%2Cnotes&filters=%7B%7D&format=csv\", sep=\"\\t\")\n",
    "green.head()"
   ]
  },
  {
   "cell_type": "markdown",
   "metadata": {},
   "source": [
    "# To The Website for More Clear View \n",
    "https://data.wprdc.org/dataset/a41-o27-m19-gi-concept/resource/4f2b0784-274a-4b4b-809f-ce5ca22a69df "
   ]
  },
  {
   "cell_type": "markdown",
   "metadata": {},
   "source": [
    "# In conclusion: \n",
    "In my opinion, the neighborhood between Middle Hill to Upper Hill would be consider as \"best\". Because I can't really determine the specific neighborhood, I would just label the \"bestness\" in between the two. "
   ]
  },
  {
   "cell_type": "code",
   "execution_count": null,
   "metadata": {},
   "outputs": [],
   "source": []
  }
 ],
 "metadata": {
  "kernelspec": {
   "display_name": "Python 3",
   "language": "python",
   "name": "python3"
  },
  "language_info": {
   "codemirror_mode": {
    "name": "ipython",
    "version": 3
   },
   "file_extension": ".py",
   "mimetype": "text/x-python",
   "name": "python",
   "nbconvert_exporter": "python",
   "pygments_lexer": "ipython3",
   "version": "3.8.3"
  }
 },
 "nbformat": 4,
 "nbformat_minor": 4
}
